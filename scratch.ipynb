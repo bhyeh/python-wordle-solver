{
 "cells": [
  {
   "cell_type": "code",
   "execution_count": 1,
   "metadata": {},
   "outputs": [],
   "source": [
    "from selenium import webdriver\n",
    "from selenium.webdriver.common.by import By\n",
    "from selenium.webdriver.common.keys import Keys\n",
    "from selenium.webdriver.common.action_chains import ActionChains\n",
    "\n",
    "from webdriver_manager.chrome import ChromeDriverManager\n",
    "\n",
    "import numpy as np\n",
    "from numpy import random\n",
    "from time import sleep"
   ]
  },
  {
   "cell_type": "code",
   "execution_count": 2,
   "metadata": {},
   "outputs": [
    {
     "name": "stderr",
     "output_type": "stream",
     "text": [
      "\n",
      "\n",
      "====== WebDriver manager ======\n",
      "Current google-chrome version is 100.0.4896\n",
      "Get LATEST chromedriver version for 100.0.4896 google-chrome\n",
      "Trying to download new driver from https://chromedriver.storage.googleapis.com/100.0.4896.60/chromedriver_win32.zip\n",
      "Driver has been saved in cache [C:\\Users\\Benjamin\\.wdm\\drivers\\chromedriver\\win32\\100.0.4896.60]\n",
      "C:\\Users\\Benjamin\\AppData\\Local\\Temp\\ipykernel_7896\\4029482767.py:1: DeprecationWarning: executable_path has been deprecated, please pass in a Service object\n",
      "  driver = webdriver.Chrome(ChromeDriverManager().install())\n"
     ]
    }
   ],
   "source": [
    "driver = webdriver.Chrome(ChromeDriverManager().install())\n",
    "driver.get('https://www.nytimes.com/games/wordle/index.html')\n",
    "\n",
    "actions = ActionChains(driver)\n",
    "actions.click()\n",
    "actions.perform()"
   ]
  },
  {
   "cell_type": "code",
   "execution_count": 3,
   "metadata": {},
   "outputs": [],
   "source": [
    "wordleGuesses = np.loadtxt('wordle-guesses.txt', dtype = str)\n",
    "\n",
    "def make_random_guess():\n",
    "    guessIdx = np.random.randint(low = 0, high = len(wordleGuesses))\n",
    "    guess = wordleGuesses[guessIdx]\n",
    "    actions.send_keys(guess)\n",
    "    actions.send_keys(Keys.RETURN)\n",
    "    actions.perform()\n",
    "\n",
    "def evaluate_random_guess(idx):\n",
    "    \"\"\"\n",
    "    \n",
    "    \n",
    "    \"\"\"\n",
    "\n",
    "    game_app = driver.find_element(By.TAG_NAME , 'game-app')\n",
    "    game_rows = driver.execute_script(\"return arguments[0].shadowRoot.getElementById('board')\", game_app).find_elements(By.TAG_NAME, 'game-row')\n",
    "    letters = driver.execute_script('return arguments[0].shadowRoot', game_rows[idx]).find_elements(By.CSS_SELECTOR , 'game-tile')\n",
    "\n",
    "    # Quantize evaluation \n",
    "    eval_to_int = {\n",
    "        'correct' : 2,\n",
    "        'present' : 1,\n",
    "        'absent'  : 0\n",
    "    }\n",
    "\n",
    "    # Evaluate guess\n",
    "    correctness = 0\n",
    "    for letter in letters:\n",
    "        correctness += eval_to_int[letter.get_attribute('evaluation')]\n",
    "    correctness /= 10\n",
    "    print('Correctness: {:.2f}'.format(correctness))"
   ]
  },
  {
   "cell_type": "code",
   "execution_count": 6,
   "metadata": {},
   "outputs": [],
   "source": [
    "state = np.loadtxt('wordle-guesses.txt', dtype = str)"
   ]
  },
  {
   "cell_type": "code",
   "execution_count": 7,
   "metadata": {},
   "outputs": [],
   "source": [
    "# Interpret gameboard\n",
    "game_app = driver.find_element(By.TAG_NAME , 'game-app')\n",
    "game_rows = driver.execute_script(\"return arguments[0].shadowRoot.getElementById('board')\", game_app).find_elements(By.TAG_NAME, 'game-row')\n",
    "game_tiles = driver.execute_script('return arguments[0].shadowRoot', game_rows[0]).find_elements(By.CSS_SELECTOR , 'game-tile')"
   ]
  },
  {
   "cell_type": "code",
   "execution_count": 29,
   "metadata": {},
   "outputs": [],
   "source": [
    "correct = []\n",
    "present = []\n",
    "present_letters = []\n",
    "absent = []\n",
    "# Parse pattern\n",
    "for i, tile in enumerate(game_tiles):\n",
    "  letter = tile.get_attribute('letter')\n",
    "  eval = tile.get_attribute('evaluation')\n",
    "  # Letter is present and at exact position in answer\n",
    "  if eval == 'correct':\n",
    "    # Add words to new state with letter at POSITION `i` in word\n",
    "    correct.append([word for word in state if word[i] == letter])\n",
    "  # Letter is present in answer\n",
    "  elif eval == 'present':\n",
    "    # Add words to new state WITH LETTER in word\n",
    "    present.append([word for word in state if letter in word])\n",
    "    present_letters.append(letter)\n",
    "  # Letter is not present in answer\n",
    "  else:\n",
    "    if letter not in present_letters:\n",
    "      # Add words to new state WITHOUT LETTER in word\n",
    "      absent.append([word for word in state if (letter not in word)])\n",
    "# New worde state is INTERSECTION of three states; (correct x present x absent)\n",
    "# new_state = np.array(list(set.intersection(*map(set, [correct, present, absent]))))"
   ]
  },
  {
   "cell_type": "code",
   "execution_count": 30,
   "metadata": {},
   "outputs": [
    {
     "name": "stdout",
     "output_type": "stream",
     "text": [
      "--------------------------------------------------------------------------------\n",
      "Correct subset size: 0\n",
      "Present subset size: 5318\n",
      "Absent subset size: 4441\n"
     ]
    }
   ],
   "source": [
    "sets = [correct, present, absent]\n",
    "# Check for non-emptiness\n",
    "for i in np.arange(len(sets)):\n",
    "    subset = sets[i]\n",
    "    # Check if subset is non-empty\n",
    "    if subset:\n",
    "    # Find intersection of sub-subsets\n",
    "        sets[i] = list(set.intersection(*map(set, subset)))\n",
    "correct, present, absent = tuple(sets)\n",
    "print('-'*80)\n",
    "print('Correct subset size: {}'.format(len(correct)))\n",
    "print('Present subset size: {}'.format(len(present)))\n",
    "print('Absent subset size: {}'.format(len(absent)))\n",
    "sets = [subset for subset in [correct, present, absent] if subset]"
   ]
  },
  {
   "cell_type": "code",
   "execution_count": 32,
   "metadata": {},
   "outputs": [
    {
     "data": {
      "text/plain": [
       "2373"
      ]
     },
     "execution_count": 32,
     "metadata": {},
     "output_type": "execute_result"
    }
   ],
   "source": [
    "new_state = list(set.intersection(*map(set, sets)))\n",
    "len(new_state)"
   ]
  },
  {
   "cell_type": "code",
   "execution_count": 77,
   "metadata": {},
   "outputs": [
    {
     "data": {
      "text/plain": [
       "['train']"
      ]
     },
     "execution_count": 77,
     "metadata": {},
     "output_type": "execute_result"
    }
   ],
   "source": [
    "# CORRECT WORD: 'TRAIN'\n",
    "# ---------------------\n",
    "# Correct\n",
    "#   -> ('t' @ idx 0)\n",
    "#   -> ('r' @ idx 1)\n",
    "# Must satsify t @ idx 0 AND r @ idx 1\n",
    "s = [['train', 'tank', 'tent'], ['train', 'brain', 'pray']] \n",
    "# Present\n",
    "#   -> ('a')\n",
    "#   -> ('i')\n",
    "# Must satsify 'a' in word AND 'i' in word\n",
    "t = [['train', 'apple', 'air'], ['brain', 'train', 'item']]\n",
    "# Not in\n",
    "u = []\n",
    "sets = [s, t, u]\n",
    "for i in np.arange(3):\n",
    "    subset = sets[i]\n",
    "    if subset:\n",
    "        sets[i] = list(set.intersection(*map(set, subset)))\n",
    "s, t, u = tuple(sets)\n",
    "\n",
    "sets = [subset for subset in [s, t, u] if subset]\n",
    "list(set.intersection(*map(set, sets)))"
   ]
  }
 ],
 "metadata": {
  "interpreter": {
   "hash": "5e49d3f08de9ca05607c8add2bad8bbabea70c04960105f41c08b6cc990f1e39"
  },
  "kernelspec": {
   "display_name": "Python 3.10.2 ('beautifulsoup')",
   "language": "python",
   "name": "python3"
  },
  "language_info": {
   "codemirror_mode": {
    "name": "ipython",
    "version": 3
   },
   "file_extension": ".py",
   "mimetype": "text/x-python",
   "name": "python",
   "nbconvert_exporter": "python",
   "pygments_lexer": "ipython3",
   "version": "3.10.2"
  },
  "orig_nbformat": 4
 },
 "nbformat": 4,
 "nbformat_minor": 2
}
