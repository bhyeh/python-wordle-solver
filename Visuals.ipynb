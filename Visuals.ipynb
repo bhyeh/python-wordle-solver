{
 "cells": [
  {
   "cell_type": "code",
   "execution_count": 1,
   "metadata": {},
   "outputs": [],
   "source": [
    "import numpy as np\n",
    "import pandas as pd\n",
    "import matplotlib.pyplot as plt\n",
    "import seaborn as sns\n",
    "from wordfreq import zipf_frequency"
   ]
  },
  {
   "cell_type": "code",
   "execution_count": 3,
   "metadata": {},
   "outputs": [],
   "source": [
    "words = np.loadtxt('wordle-answers.txt', dtype = str)\n",
    "# Anon aux function to calculate zipf frequency of an array element\n",
    "zipf = lambda x : zipf_frequency(x, 'eng')\n",
    "# Compute zipf frequencies of all words in word state\n",
    "zipf_words = [*map(zipf, words)]\n",
    "# Create zipf dictionary with key: word, value : zipf frequency\n",
    "zipf_dict = dict(zip(words, zipf_words))\n",
    "# Create zipf dataframe\n",
    "zipf_df = pd.DataFrame({'word' : words, 'frequency' : zipf_words})"
   ]
  },
  {
   "cell_type": "code",
   "execution_count": 10,
   "metadata": {},
   "outputs": [],
   "source": [
    "zipf_words = -np.sort(-zipf_words)"
   ]
  },
  {
   "cell_type": "code",
   "execution_count": 12,
   "metadata": {},
   "outputs": [
    {
     "data": {
      "text/plain": [
       "<AxesSubplot:>"
      ]
     },
     "execution_count": 12,
     "metadata": {},
     "output_type": "execute_result"
    },
    {
     "data": {
      "image/png": "[encoded data removed]",
      "text/plain": [
       "<Figure size 432x288 with 1 Axes>"
      ]
     },
     "metadata": {
      "needs_background": "light"
     },
     "output_type": "display_data"
    }
   ],
   "source": [
    "# Generate plot of zipf frequency of answers\n",
    "sns.barplot(x = np.arange(words.size), y = zipf_words)"
   ]
  }
 ],
 "metadata": {
  "interpreter": {
   "hash": "fefd8e8c712f853f9d8effb77f580b955a0da50ed2476e63d29d7685e8a42ea5"
  },
  "kernelspec": {
   "display_name": "Python 3.9.7",
   "language": "python",
   "name": "python3"
  },
  "language_info": {
   "codemirror_mode": {
    "name": "ipython",
    "version": 3
   },
   "file_extension": ".py",
   "mimetype": "text/x-python",
   "name": "python",
   "nbconvert_exporter": "python",
   "pygments_lexer": "ipython3",
   "version": "3.9.7"
  },
  "orig_nbformat": 4
 },
 "nbformat": 4,
 "nbformat_minor": 2
}
