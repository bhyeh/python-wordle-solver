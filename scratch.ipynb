{
 "cells": [
  {
   "cell_type": "code",
   "execution_count": null,
   "metadata": {},
   "outputs": [],
   "source": [
    "from bs4 import BeautifulSoup\n",
    "from selenium import webdriver\n",
    "from selenium.webdriver.common.keys import Keys\n",
    "from selenium.webdriver.common.action_chains import ActionChains\n",
    "\n",
    "from webdriver_manager.chrome import ChromeDriverManager\n",
    "\n",
    "import numpy as np\n",
    "from numpy import random\n",
    "from time import sleep"
   ]
  },
  {
   "cell_type": "code",
   "execution_count": null,
   "metadata": {},
   "outputs": [],
   "source": [
    "driver = webdriver.Chrome(ChromeDriverManager().install())\n",
    "driver.get('https://www.nytimes.com/games/wordle/index.html')\n",
    "\n",
    "actions = ActionChains(driver)\n",
    "actions.click()\n",
    "actions.perform()"
   ]
  },
  {
   "cell_type": "code",
   "execution_count": null,
   "metadata": {},
   "outputs": [],
   "source": [
    "wordleGuesses = np.loadtxt('wordle-guesses.txt', dtype = str)"
   ]
  },
  {
   "cell_type": "code",
   "execution_count": null,
   "metadata": {},
   "outputs": [],
   "source": [
    "def makeRandomGuess():\n",
    "    guessIdx = np.random.randint(low = 0, high = len(wordleGuesses))\n",
    "    guess = wordleGuesses[guessIdx]\n",
    "    actions.send_keys(guess)\n",
    "    actions.send_keys(Keys.RETURN)\n",
    "    actions.perform()"
   ]
  },
  {
   "cell_type": "code",
   "execution_count": null,
   "metadata": {},
   "outputs": [],
   "source": [
    "for i in np.arange(6):\n",
    "    makeRandomGuess()\n",
    "    sleep(3)"
   ]
  }
 ],
 "metadata": {
  "interpreter": {
   "hash": "5e49d3f08de9ca05607c8add2bad8bbabea70c04960105f41c08b6cc990f1e39"
  },
  "kernelspec": {
   "display_name": "Python 3.10.2 ('beautifulsoup')",
   "language": "python",
   "name": "python3"
  },
  "language_info": {
   "codemirror_mode": {
    "name": "ipython",
    "version": 3
   },
   "file_extension": ".py",
   "mimetype": "text/x-python",
   "name": "python",
   "nbconvert_exporter": "python",
   "pygments_lexer": "ipython3",
   "version": "3.10.2"
  },
  "orig_nbformat": 4
 },
 "nbformat": 4,
 "nbformat_minor": 2
}
