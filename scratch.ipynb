{
 "cells": [
  {
   "cell_type": "code",
   "execution_count": 5,
   "metadata": {},
   "outputs": [],
   "source": [
    "from bs4 import BeautifulSoup\n",
    "from selenium import webdriver\n",
    "from selenium.webdriver.common.by import By\n",
    "from selenium.webdriver.common.keys import Keys\n",
    "from selenium.webdriver.common.action_chains import ActionChains\n",
    "\n",
    "from webdriver_manager.chrome import ChromeDriverManager\n",
    "\n",
    "import numpy as np\n",
    "from numpy import random\n",
    "from time import sleep"
   ]
  },
  {
   "cell_type": "code",
   "execution_count": 6,
   "metadata": {},
   "outputs": [
    {
     "name": "stderr",
     "output_type": "stream",
     "text": [
      "\n",
      "\n",
      "====== WebDriver manager ======\n",
      "Current google-chrome version is 100.0.4896\n",
      "Get LATEST chromedriver version for 100.0.4896 google-chrome\n",
      "Trying to download new driver from https://chromedriver.storage.googleapis.com/100.0.4896.60/chromedriver_win32.zip\n",
      "Driver has been saved in cache [C:\\Users\\Benjamin\\.wdm\\drivers\\chromedriver\\win32\\100.0.4896.60]\n",
      "C:\\Users\\Benjamin\\AppData\\Local\\Temp\\ipykernel_26952\\4029482767.py:1: DeprecationWarning: executable_path has been deprecated, please pass in a Service object\n",
      "  driver = webdriver.Chrome(ChromeDriverManager().install())\n"
     ]
    }
   ],
   "source": [
    "driver = webdriver.Chrome(ChromeDriverManager().install())\n",
    "driver.get('https://www.nytimes.com/games/wordle/index.html')\n",
    "\n",
    "actions = ActionChains(driver)\n",
    "actions.click()\n",
    "actions.perform()"
   ]
  },
  {
   "cell_type": "code",
   "execution_count": 7,
   "metadata": {},
   "outputs": [],
   "source": [
    "wordleGuesses = np.loadtxt('wordle-guesses.txt', dtype = str)\n",
    "\n",
    "def make_random_guess():\n",
    "    guessIdx = np.random.randint(low = 0, high = len(wordleGuesses))\n",
    "    guess = wordleGuesses[guessIdx]\n",
    "    actions.send_keys(guess)\n",
    "    actions.send_keys(Keys.RETURN)\n",
    "    actions.perform()\n",
    "\n",
    "def evaluate_random_guess(idx):\n",
    "    \"\"\"\n",
    "    \n",
    "    \n",
    "    \"\"\"\n",
    "\n",
    "    game_app = driver.find_element(By.TAG_NAME , 'game-app')\n",
    "    game_rows = driver.execute_script(\"return arguments[0].shadowRoot.getElementById('board')\", game_app).find_elements(By.TAG_NAME, 'game-row')\n",
    "    letters = driver.execute_script('return arguments[0].shadowRoot', game_rows[idx]).find_elements(By.CSS_SELECTOR , 'game-tile')\n",
    "\n",
    "    # Quantize evaluation \n",
    "    eval_to_int = {\n",
    "        'correct' : 2,\n",
    "        'present' : 1,\n",
    "        'absent'  : 0\n",
    "    }\n",
    "\n",
    "    # Evaluate guess\n",
    "    correctness = 0\n",
    "    for letter in letters:\n",
    "        correctness += eval_to_int[letter.get_attribute('evaluation')]\n",
    "    correctness /= 10\n",
    "    print('Correctness: {:.2f}'.format(correctness))"
   ]
  },
  {
   "cell_type": "code",
   "execution_count": 8,
   "metadata": {},
   "outputs": [
    {
     "name": "stdout",
     "output_type": "stream",
     "text": [
      "Correctness: 0.20\n",
      "Correctness: 0.00\n",
      "Correctness: 0.10\n",
      "Correctness: 0.10\n",
      "Correctness: 0.00\n",
      "Correctness: 0.20\n"
     ]
    }
   ],
   "source": [
    "for i in np.arange(6):\n",
    "    make_random_guess()\n",
    "    evaluate_random_guess(i)\n",
    "    sleep(2.5)"
   ]
  }
 ],
 "metadata": {
  "interpreter": {
   "hash": "5e49d3f08de9ca05607c8add2bad8bbabea70c04960105f41c08b6cc990f1e39"
  },
  "kernelspec": {
   "display_name": "Python 3.10.2 ('beautifulsoup')",
   "language": "python",
   "name": "python3"
  },
  "language_info": {
   "codemirror_mode": {
    "name": "ipython",
    "version": 3
   },
   "file_extension": ".py",
   "mimetype": "text/x-python",
   "name": "python",
   "nbconvert_exporter": "python",
   "pygments_lexer": "ipython3",
   "version": "3.10.2"
  },
  "orig_nbformat": 4
 },
 "nbformat": 4,
 "nbformat_minor": 2
}
